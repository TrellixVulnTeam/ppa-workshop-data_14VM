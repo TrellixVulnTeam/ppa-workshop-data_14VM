{
 "cells": [
  {
   "cell_type": "markdown",
   "metadata": {},
   "source": [
    "# Lab 2 - Train on Comprehend Custom"
   ]
  },
  {
   "cell_type": "markdown",
   "metadata": {},
   "source": [
    "### [Click here](https://console.aws.amazon.com/comprehend/v2/home?region=us-east-1#welcome) to open the Comprehend console in a new tab and return to the following steps for instructions"
   ]
  },
  {
   "cell_type": "markdown",
   "metadata": {},
   "source": [
    "### Step 1 - click \"Custom classification\" on the comprehend console. Then click \"Train classifier\"\n",
    "![](lab2_images/1.png)"
   ]
  },
  {
   "cell_type": "markdown",
   "metadata": {},
   "source": [
    "### Step 2 - Type in a name for your model as shown below\n",
    "![](lab2_images/2.png)"
   ]
  },
  {
   "cell_type": "markdown",
   "metadata": {},
   "source": [
    "## Step 3 - Click using multi-label mode\n",
    "\n",
    "Note : our data-prep step is generic and works for single and multi-label use cases.\n",
    "\n",
    "![](lab2_images/3.png)"
   ]
  },
  {
   "cell_type": "markdown",
   "metadata": {},
   "source": [
    "## Step 4 - "
   ]
  },
  {
   "cell_type": "code",
   "execution_count": null,
   "metadata": {},
   "outputs": [],
   "source": [
    "%store -r lab2path\n",
    "lab2path"
   ]
  },
  {
   "cell_type": "markdown",
   "metadata": {},
   "source": [
    "\n",
    "\n",
    "#### Paste in the S3 location from Lab 1 for the training data location (run cell above to access the path)\n",
    "\n",
    "#### change the prefix to include an output foder as shown below for the output location field \n",
    "\n",
    "![](lab2_images/4.png)"
   ]
  },
  {
   "cell_type": "markdown",
   "metadata": {},
   "source": [
    "## Step 5 - Click create new role, and add a suffix as shown. Then click \"Train classifier\" \n",
    "![](lab2_images/5.png)"
   ]
  },
  {
   "cell_type": "markdown",
   "metadata": {},
   "source": [
    "## Step 6 - You should see that your job is \"Submitted\" \n",
    "![](lab2_images/6.png)"
   ]
  },
  {
   "cell_type": "markdown",
   "metadata": {},
   "source": [
    "## Step 7 - Once your model is trained, click the name of the model view details\n",
    "\n",
    "In this example, the name of the classifier is `textclassifier1`. The details screen provides basic info and training metrics as shown below"
   ]
  },
  {
   "cell_type": "markdown",
   "metadata": {},
   "source": [
    "![](lab2_images/7.png)\n",
    "\n",
    "![](lab2_images/8.png)"
   ]
  },
  {
   "cell_type": "markdown",
   "metadata": {},
   "source": [
    "### ------------------------------------------------------------------------------------"
   ]
  },
  {
   "cell_type": "markdown",
   "metadata": {},
   "source": [
    "## (Optional) Step 8 - Create a Real-time analysis endpoint"
   ]
  },
  {
   "cell_type": "markdown",
   "metadata": {},
   "source": [
    "1. Click \"create endpoint\"\n",
    "2. Enter a name for the endpoint as shown below\n",
    "3. For number of inference units, enter 1\n",
    "4. Click create endpoint"
   ]
  },
  {
   "cell_type": "markdown",
   "metadata": {},
   "source": [
    "![](lab2_images/9.png)"
   ]
  },
  {
   "cell_type": "markdown",
   "metadata": {},
   "source": [
    "![](lab2_images/10.png)"
   ]
  },
  {
   "cell_type": "markdown",
   "metadata": {},
   "source": [
    "### Note: this step will take about 5 mins to complete. Wait until your endpoint status is \"Active\""
   ]
  },
  {
   "cell_type": "markdown",
   "metadata": {},
   "source": [
    "## Step 9 - Make predictions!"
   ]
  },
  {
   "cell_type": "markdown",
   "metadata": {},
   "source": [
    "(Wait for the endpoint to get created before trying out this step!):\n",
    "\n",
    "1. Click `Use in real-time analysis`\n",
    "2. Paste in the following text and click `Analyze`"
   ]
  },
  {
   "cell_type": "markdown",
   "metadata": {},
   "source": [
    "![](lab2_images/11.png)\n",
    "\n",
    "![](lab2_images/12.png)"
   ]
  },
  {
   "cell_type": "markdown",
   "metadata": {},
   "source": [
    "### Tip: Also try out the built-in analysis type!"
   ]
  },
  {
   "cell_type": "markdown",
   "metadata": {},
   "source": [
    "## Cleanup - delete the endpoint!\n",
    "\n",
    "Go to `Endpoints` on the left side menu, select your enpoint, drop down on `Actions` and click `Delete`"
   ]
  },
  {
   "cell_type": "markdown",
   "metadata": {},
   "source": [
    "![](lab2_images/13.png)"
   ]
  },
  {
   "cell_type": "code",
   "execution_count": null,
   "metadata": {},
   "outputs": [],
   "source": []
  }
 ],
 "metadata": {
  "instance_type": "ml.t3.medium",
  "kernelspec": {
   "display_name": "Python 3 (Data Science)",
   "language": "python",
   "name": "python3__SAGEMAKER_INTERNAL__arn:aws:sagemaker:us-east-1:081325390199:image/datascience-1.0"
  },
  "language_info": {
   "codemirror_mode": {
    "name": "ipython",
    "version": 3
   },
   "file_extension": ".py",
   "mimetype": "text/x-python",
   "name": "python",
   "nbconvert_exporter": "python",
   "pygments_lexer": "ipython3",
   "version": "3.7.10"
  }
 },
 "nbformat": 4,
 "nbformat_minor": 4
}
